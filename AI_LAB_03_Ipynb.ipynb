{
  "cells": [
    {
      "cell_type": "code",
      "execution_count": 1,
      "metadata": {
        "colab": {
          "base_uri": "https://localhost:8080/"
        },
        "id": "Rqayq_TsWYRV",
        "outputId": "ea462ea6-4864-4cc7-baea-25cb21505886"
      },
      "outputs": [
        {
          "name": "stdout",
          "output_type": "stream",
          "text": [
            "\n",
            "Shotest Path Is:  ['Arad', 'Sibui', 'Fagaras', 'Bucharest']\n"
          ]
        }
      ],
      "source": [
        "#-------------------Artificial Intelligence (FA20-BCS-026)----------------------#\n",
        "\n",
        "# Breadth First Search\n",
        "# LAB TASK 1\n",
        "class Node:\n",
        "    def __init__(self, state, parent, actions, totalCost):\n",
        "        self.state = state\n",
        "        self.parent = parent\n",
        "        self.actions = actions\n",
        "        self.totalCost = totalCost\n",
        "\n",
        "def BFS():\n",
        "    startingNode = input(\"Enter the initial Node: \")\n",
        "    destinationNode = input(\"Enter the Destination Node: \")\n",
        "\n",
        "    nodeGraphs = {'Oradea': Node('Oradea', None, ['Zerind' , 'Sibui'], None),\n",
        "                  'Zerind': Node('Zerind', None, ['Oradea' , 'Arad'], None),\n",
        "                  'Neamt': Node('Neamt', None, ['Iasi'], None),\n",
        "                  'Arad': Node('Arad', None, ['Zerind', 'Sibui' , 'Timisoara'], None),\n",
        "                  'Isai': Node('Isai', None, ['Neamt','Vaslui'], None),\n",
        "                  'Sibui': Node('Sibui', None, ['Oradea', 'Arad' , 'Fagaras'], None),\n",
        "                  'Fagaras': Node('Fagaras', None, ['Sibui', 'Bucharest'], None),\n",
        "                  'Vaslui': Node('Vaslui', None, ['Isai','Urziceni'], None),\n",
        "                  'Timisoara': Node('Timisoara', None, ['Arad','Lugoj'], None),\n",
        "                  'Riminica': Node('Riminica', None, ['Sibui','Pitesti','Craiova'], None),\n",
        "                  'Lugoj': Node('Lugoj', None, ['Timisoara','Mehadia'], None),\n",
        "                  'Pitesti': Node('Pitesti', None, ['Riminica','Craiova','Bucharest'], None),\n",
        "                  'Mehadia': Node('Mehadia', None, ['Lugoj','Drobeta'], None),\n",
        "                  'Bucharest': Node('Bucharest', None, ['Fagaras','Pitesti','Urziceni'], None),\n",
        "                  'Urziceni': Node('Urziceni', None, ['Bucharest','Hirsova','Vaslui'], None),\n",
        "                  'Hirsova': Node('Hirsova', None, ['Urziceni','Eforie'], None),\n",
        "                  'Drobeta': Node('Drobeta', None, ['Mehndia','Craiova'], None),\n",
        "                  'Craiova': Node('Craiova', None, ['Drobeta','Riminica','Pitesti'], None),\n",
        "                  'Giurgui': Node('Giurgui', None, ['Bucharest'], None),\n",
        "                  'Eforie': Node('Eforie', None, ['Hirsova'], None)}\n",
        "    queue = [startingNode]\n",
        "    visitedNode = []\n",
        "    \n",
        "    while len(queue) != 0:\n",
        "        temp = queue.pop(0)\n",
        "        visitedNode.append(temp)\n",
        "        \n",
        "        for child in nodeGraphs[temp].actions:\n",
        "            if child not in queue and child not in visitedNode:\n",
        "                nodeGraphs[child].parent = temp\n",
        "                if nodeGraphs[child].state == destinationNode:\n",
        "                    return roadMap(nodeGraphs, startingNode ,destinationNode)\n",
        "                queue.append(child)\n",
        "                \n",
        "def roadMap(nodeGraphs, startingNode, destinationNode):\n",
        "    temporary = [destinationNode]\n",
        "    parentCurrent = nodeGraphs[destinationNode].parent\n",
        "    \n",
        "    while parentCurrent != None:\n",
        "        temporary.append(parentCurrent)\n",
        "        parentCurrent = nodeGraphs[parentCurrent].parent\n",
        "    temporary.reverse()\n",
        "    return temporary\n",
        "\n",
        "sol = BFS()\n",
        "print()\n",
        "print(\"Shotest Path Is: \" , sol)"
      ]
    },
    {
      "cell_type": "code",
      "execution_count": 1,
      "metadata": {
        "id": "ha6iyVH1VyjJ"
      },
      "outputs": [],
      "source": [
        "# LAB TASK 02\n",
        "def solveMazeWithPath(maze):\n",
        "    R, C = len(maze), len(maze[0])\n",
        "\n",
        "    start = (0, 0)\n",
        "    for r in range(R):\n",
        "        for c in range(C):\n",
        "            if maze[r][c] == 'S':\n",
        "                start = (r, c)\n",
        "                break\n",
        "        else:\n",
        "            continue\n",
        "        break\n",
        "    else:\n",
        "        return None\n",
        "\n",
        "    queue = deque()\n",
        "    queue.appendleft((start[0], start[1], 0, [start[0] * C + start[1]]))\n",
        "    directions = [[0, 1], [0, -1], [1, 0], [-1, 0]]\n",
        "    visited = [[False] * C for _ in range(R)]\n",
        "\n",
        "    while len(queue) != 0:\n",
        "        coord = queue.pop()\n",
        "        visited[coord[0]][coord[1]] = True\n",
        "\n",
        "        if maze[coord[0]][coord[1]] == \"E\":\n",
        "            return coord[2], [[i//C, i%C] for i in coord[3]] # Return path length, boxes on path\n",
        "\n",
        "        for dir in directions:\n",
        "            nr, nc = coord[0] + dir[0], coord[1] + dir[1]\n",
        "            if (nr < 0 or nr >= R or nc < 0 or nc >= C or maze[nr][nc] == \"#\" or visited[nr][nc]): continue\n",
        "            queue.appendleft((nr, nc, coord[2] + 1, coord[3] + [nr * C + nc]))"
      ]
    }
  ],
  "metadata": {
    "colab": {
      "collapsed_sections": [],
      "provenance": []
    },
    "kernelspec": {
      "display_name": "Python 3.10.6 64-bit",
      "language": "python",
      "name": "python3"
    },
    "language_info": {
      "codemirror_mode": {
        "name": "ipython",
        "version": 3
      },
      "file_extension": ".py",
      "mimetype": "text/x-python",
      "name": "python",
      "nbconvert_exporter": "python",
      "pygments_lexer": "ipython3",
      "version": "3.10.6"
    },
    "vscode": {
      "interpreter": {
        "hash": "abe4cc62e71efd28026365d4753af26f60158fdd257900fb3e00a4964f4677fe"
      }
    }
  },
  "nbformat": 4,
  "nbformat_minor": 0
}
